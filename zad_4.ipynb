{
 "cells": [
  {
   "cell_type": "code",
   "execution_count": null,
   "id": "initial_id",
   "metadata": {
    "collapsed": true
   },
   "outputs": [],
   "source": [
    "import argparse\n",
    "\n",
    "def receive_token(text) -> str:\n",
    "    return text\n",
    "\n",
    "def main():\n",
    "    parser = argparse.ArgumentParser()\n",
    "\n",
    "    parser.add_argument(\"-f\", \"--first_name\", required=True)\n",
    "    parser.add_argument(\"-s\", \"--second_name\", required=True)\n",
    "    parser.add_argument(\"-m\", \"--email\", required=True)\n",
    "    parser.add_argument(\"-e\", \"--expiry_date\", required=True, help=\"Format: DD-MM-YYYY\")\n",
    "\n",
    "    args = parser.parse_args()\n",
    "\n",
    "    text = args.first_name + args.second_name + args.email + args.expiry_date\n",
    "    print(receive_token(text))\n",
    "\n",
    "if __name__ == '__main__':\n",
    "    main()"
   ]
  }
 ],
 "metadata": {
  "kernelspec": {
   "display_name": "Python 3",
   "language": "python",
   "name": "python3"
  },
  "language_info": {
   "codemirror_mode": {
    "name": "ipython",
    "version": 2
   },
   "file_extension": ".py",
   "mimetype": "text/x-python",
   "name": "python",
   "nbconvert_exporter": "python",
   "pygments_lexer": "ipython2",
   "version": "2.7.6"
  }
 },
 "nbformat": 4,
 "nbformat_minor": 5
}
