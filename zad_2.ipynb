{
 "cells": [
  {
   "cell_type": "code",
   "execution_count": null,
   "id": "initial_id",
   "metadata": {
    "collapsed": true
   },
   "outputs": [],
   "source": [
    "import argparse\n",
    "\n",
    "parser = argparse.ArgumentParser()\n",
    "\n",
    "parser.add_argument(\"-a\", required=True, help=\"First number\")\n",
    "parser.add_argument(\"-b\", required=True, help=\"Second number\")\n",
    "parser.add_argument(\"-op\", required=True, help=\"Operation\"\n",
    "                                               \" add --- return result of a+b\"\n",
    "                                               \" sub --- return result of a-b\"\n",
    "                                               \" mul --- return result of a*b\"\n",
    "                                               \" div --- return result of a/b\"\n",
    "                                               \" add --- return result of a+b\"\n",
    "                                               \" add --- return result of a+b\"\n",
    "                                               \" add --- return result of a+b\"\n",
    "                                               \" add --- return result of a+b\")\n",
    "\n",
    "args = parser.parse_args()\n",
    "\n",
    "result = None\n",
    "\n",
    "if args.add:\n",
    "    result = args.a + args.b\n",
    "elif args.sub:\n",
    "    result = args.a - args.b\n",
    "elif args.mul:\n",
    "    result = args.a - args.b\n",
    "elif args.div:\n",
    "    result = args.a - args.b\n",
    "\n",
    "print(result)"
   ]
  }
 ],
 "metadata": {
  "kernelspec": {
   "display_name": "Python 3",
   "language": "python",
   "name": "python3"
  },
  "language_info": {
   "codemirror_mode": {
    "name": "ipython",
    "version": 2
   },
   "file_extension": ".py",
   "mimetype": "text/x-python",
   "name": "python",
   "nbconvert_exporter": "python",
   "pygments_lexer": "ipython2",
   "version": "2.7.6"
  }
 },
 "nbformat": 4,
 "nbformat_minor": 5
}
