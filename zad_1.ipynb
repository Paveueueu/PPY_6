{
 "cells": [
  {
   "cell_type": "code",
   "id": "initial_id",
   "metadata": {
    "collapsed": true,
    "ExecuteTime": {
     "end_time": "2025-04-12T16:32:51.947891Z",
     "start_time": "2025-04-12T16:32:51.932725Z"
    }
   },
   "source": [
    "import argparse\n",
    "import sys\n",
    "\n",
    "def main():\n",
    "    parser = argparse.ArgumentParser()\n",
    "    parser.add_argument('-a', '--asterisks', help=\"Number of '*' printed\", type=int)\n",
    "    parser.add_argument('-h', '--hashtags', help=\"Number of '#' printed\", type=int)\n",
    "    parser.add_argument('-d', '--dollars', help=\"Number of '$' printed\", type=int)\n",
    "\n",
    "    args = parser.parse_args()\n",
    "\n",
    "    a = args.a\n",
    "    h = args.h\n",
    "    d = args.d\n",
    "\n",
    "    for i in range(max(a, h, d)):\n",
    "        print(\"*\" if i < a else \" \", end=\"\")\n",
    "        print(\"#\" if i < h else \" \", end=\"\")\n",
    "        print(\"$\" if i < d else \" \", end=\"\")\n",
    "        print()"
   ],
   "outputs": [],
   "execution_count": 23
  },
  {
   "metadata": {
    "ExecuteTime": {
     "end_time": "2025-04-12T16:32:51.986378Z",
     "start_time": "2025-04-12T16:32:51.973340Z"
    }
   },
   "cell_type": "code",
   "source": [
    "sys.argv = [\"\", \"-a\", \"3\", \"-h\", \"5\", \"-d\", \"2\"]\n",
    "main()"
   ],
   "id": "b7210ee7ed3c2f92",
   "outputs": [
    {
     "name": "stdout",
     "output_type": "stream",
     "text": [
      "*#$\n",
      "*#$\n",
      "*# \n",
      " # \n",
      " # \n"
     ]
    }
   ],
   "execution_count": 24
  }
 ],
 "metadata": {
  "kernelspec": {
   "display_name": "Python 3",
   "language": "python",
   "name": "python3"
  },
  "language_info": {
   "codemirror_mode": {
    "name": "ipython",
    "version": 2
   },
   "file_extension": ".py",
   "mimetype": "text/x-python",
   "name": "python",
   "nbconvert_exporter": "python",
   "pygments_lexer": "ipython2",
   "version": "2.7.6"
  }
 },
 "nbformat": 4,
 "nbformat_minor": 5
}
